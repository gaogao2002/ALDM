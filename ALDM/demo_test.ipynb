{
 "cells": [
  {
   "cell_type": "code",
   "execution_count": 2,
   "metadata": {},
   "outputs": [
    {
     "name": "stderr",
     "output_type": "stream",
     "text": [
      "/home/bh/anaconda3/envs/cvpr/lib/python3.10/site-packages/tqdm/auto.py:21: TqdmWarning: IProgress not found. Please update jupyter and ipywidgets. See https://ipywidgets.readthedocs.io/en/stable/user_install.html\n",
      "  from .autonotebook import tqdm as notebook_tqdm\n"
     ]
    },
    {
     "name": "stdout",
     "output_type": "stream",
     "text": [
      "[2023-10-26 18:13:38,175] [INFO] [real_accelerator.py:158:get_accelerator] Setting ds_accelerator to cuda (auto detect)\n"
     ]
    }
   ],
   "source": [
    "from src.inference import simpleTryDiffusion\n",
    "from diffusers import DDPMScheduler,AutoencoderKL,StableDiffusionPipeline,StableDiffusionImg2ImgPipeline,UNet2DConditionModel\n",
    "from transformers import AutoModel\n",
    "import torch\n",
    "from PIL import Image\n",
    "import random"
   ]
  },
  {
   "cell_type": "code",
   "execution_count": null,
   "metadata": {},
   "outputs": [],
   "source": [
    "base_model_path=\"runwayml/stable-diffusion-v1-5\"\n",
    "vae_model_path = \"./model/vae\"\n",
    "scheduler_path = \"./model/scheduler\"\n",
    "image_encoder_path = \"model/dinov2-G\"\n",
    "device = \"cuda\""
   ]
  },
  {
   "cell_type": "code",
   "execution_count": null,
   "metadata": {},
   "outputs": [],
   "source": [
    "def image_grid(imgs, rows, cols):\n",
    "    assert len(imgs) == rows*cols\n",
    "\n",
    "    w, h = imgs[0].size\n",
    "    grid = Image.new('RGB', size=(cols*w, rows*h))\n",
    "    grid_w, grid_h = grid.size\n",
    "    \n",
    "    for i, img in enumerate(imgs):\n",
    "        grid.paste(img, box=(i%cols*w, i//cols*h))\n",
    "    return grid"
   ]
  },
  {
   "cell_type": "code",
   "execution_count": null,
   "metadata": {},
   "outputs": [],
   "source": [
    "noise_scheduler = DDPMScheduler.from_pretrained(scheduler_path)\n",
    "vae = AutoencoderKL.from_pretrained(vae_model_path)\n",
    "image_encoder = AutoModel.from_pretrained(image_encoder_path)"
   ]
  },
  {
   "cell_type": "code",
   "execution_count": null,
   "metadata": {},
   "outputs": [],
   "source": [
    "import os\n",
    "os.environ['http_proxy']='http://127.0.0.1:7890'\n",
    "os.environ['https_proxy']='http://127.0.0.1:7890'"
   ]
  },
  {
   "cell_type": "code",
   "execution_count": null,
   "metadata": {},
   "outputs": [],
   "source": [
    "# load SD pipe\n",
    "pipe = StableDiffusionPipeline.from_pretrained(\n",
    "    base_model_path,\n",
    "    torch_dtype=torch.float16,\n",
    "    scheduler=noise_scheduler,\n",
    "    vae=vae,\n",
    "    feature_extractor=None,\n",
    "    safety_checker=None\n",
    ")"
   ]
  },
  {
   "cell_type": "code",
   "execution_count": null,
   "metadata": {},
   "outputs": [],
   "source": [
    "# 先获得pairs 列表\n",
    "data_pair = list(open(\"dataset/VITON-HD/test_pairs.txt\"))\n",
    "# 处理文件内部\n",
    "for i in range(len(data_pair)):\n",
    "    flag = data_pair[i].find(\"jpg\")\n",
    "    path1 = data_pair[i][0:flag+3]\n",
    "    path2 = data_pair[i][flag+4:-1]\n",
    "    data_pair[i] = [path1, path2]"
   ]
  },
  {
   "cell_type": "code",
   "execution_count": null,
   "metadata": {},
   "outputs": [],
   "source": [
    "# read image\n",
    "random_int = random.randint(0, len(data_pair))\n",
    "path1 = data_pair[random_int][0]\n",
    "path2 = data_pair[random_int][1]\n",
    "people_model = Image.open(\"dataset/VITON-HD/test/image/\"+path1).convert(\"RGB\")\n",
    "cloth = Image.open(\"dataset/VITON-HD/test/cloth/\"+path1).convert(\"RGB\")\n",
    "people_try = Image.open(\"dataset/VITON-HD/test/image/\"+path2).convert(\"RGB\")\n",
    "mask = Image.open(\"dataset/VITON-HD/test/agnostic-v3.2/\"+path2).convert(\"RGB\")\n",
    "image_grid([people_model.resize((256, 256)), \n",
    "            cloth.resize((256, 256)),\n",
    "            people_try.resize((256, 256)),\n",
    "            mask.resize((256, 256))],\n",
    "            rows=1, cols=4)"
   ]
  },
  {
   "cell_type": "code",
   "execution_count": null,
   "metadata": {},
   "outputs": [],
   "source": [
    "# load SimpleOnUnet\n",
    "success_step = \"85000\"\n",
    "model_path = \"simpleOnUnet/\"+str(success_step)+\"/mp_rank_00_model_states.pt\"\n",
    "sd_model_dict = torch.load(model_path)[\"module\"]"
   ]
  },
  {
   "cell_type": "code",
   "execution_count": null,
   "metadata": {},
   "outputs": [],
   "source": [
    "# load ip-adapter\n",
    "sd_model = simpleTryDiffusion(pipe,sd_model_dict,image_encoder,device)"
   ]
  },
  {
   "cell_type": "code",
   "execution_count": null,
   "metadata": {},
   "outputs": [],
   "source": [
    "images = sd_model(cloth=cloth,mask=mask,num_samples=4)\n",
    "grid = image_grid(images, 1, 4)\n",
    "grid"
   ]
  },
  {
   "cell_type": "code",
   "execution_count": 1,
   "metadata": {},
   "outputs": [
    {
     "name": "stderr",
     "output_type": "stream",
     "text": [
      "/home/bh/anaconda3/envs/try_on/lib/python3.8/site-packages/tqdm/auto.py:21: TqdmWarning: IProgress not found. Please update jupyter and ipywidgets. See https://ipywidgets.readthedocs.io/en/stable/user_install.html\n",
      "  from .autonotebook import tqdm as notebook_tqdm\n"
     ]
    },
    {
     "name": "stdout",
     "output_type": "stream",
     "text": [
      "[2023-11-05 00:24:09,897] [INFO] [real_accelerator.py:158:get_accelerator] Setting ds_accelerator to cuda (auto detect)\n"
     ]
    }
   ],
   "source": [
    "from diffusers import UNet2DConditionModel\n",
    "from model.attention_processor import *"
   ]
  },
  {
   "cell_type": "code",
   "execution_count": 2,
   "metadata": {},
   "outputs": [],
   "source": [
    "unet = UNet2DConditionModel.from_pretrained(\"./model/unet/\")"
   ]
  },
  {
   "cell_type": "code",
   "execution_count": 3,
   "metadata": {},
   "outputs": [],
   "source": [
    "attn_procs = {}\n",
    "unet_sd = unet.state_dict()\n",
    "for name in unet.attn_processors.keys():\n",
    "    cross_attention_dim = None if name.endswith(\"attn1.processor\") else unet.config.cross_attention_dim\n",
    "    if name.startswith(\"mid_block\"):\n",
    "        hidden_size = unet.config.block_out_channels[-1]\n",
    "    elif name.startswith(\"up_blocks\"):\n",
    "        block_id = int(name[len(\"up_blocks.\")])\n",
    "        hidden_size = list(reversed(unet.config.block_out_channels))[block_id]\n",
    "    elif name.startswith(\"down_blocks\"):\n",
    "        block_id = int(name[len(\"down_blocks.\")])\n",
    "        hidden_size = unet.config.block_out_channels[block_id]\n",
    "    if cross_attention_dim is None:\n",
    "        attn_procs[name] = AttnProcessor()\n",
    "    else:\n",
    "        layer_name = name.split(\".processor\")[0]\n",
    "        weights = {\n",
    "            \"to_k_ip.weight\": unet_sd[layer_name + \".to_k.weight\"],\n",
    "            \"to_v_ip.weight\": unet_sd[layer_name + \".to_v.weight\"],\n",
    "            }\n",
    "        attn_procs[name] = IPAttnProcessor(hidden_size=hidden_size, cross_attention_dim=cross_attention_dim)\n",
    "        attn_procs[name].load_state_dict(weights)\n",
    "unet.set_attn_processor(attn_procs)\n",
    "adapter_modules = torch.nn.ModuleList(unet.attn_processors.values())"
   ]
  }
 ],
 "metadata": {
  "kernelspec": {
   "display_name": "try_on",
   "language": "python",
   "name": "python3"
  },
  "language_info": {
   "codemirror_mode": {
    "name": "ipython",
    "version": 3
   },
   "file_extension": ".py",
   "mimetype": "text/x-python",
   "name": "python",
   "nbconvert_exporter": "python",
   "pygments_lexer": "ipython3",
   "version": "3.8.18"
  },
  "orig_nbformat": 4
 },
 "nbformat": 4,
 "nbformat_minor": 2
}
