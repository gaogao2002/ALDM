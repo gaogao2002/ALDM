{
 "cells": [
  {
   "cell_type": "code",
   "execution_count": 1,
   "metadata": {},
   "outputs": [],
   "source": [
    "from PIL import Image\n",
    "import numpy as np"
   ]
  },
  {
   "cell_type": "code",
   "execution_count": 2,
   "metadata": {},
   "outputs": [],
   "source": [
    "def jpg2png(path):\n",
    "    path_list = list(path)\n",
    "    path_list[-3:]=\"png\"\n",
    "    path_png = \"\"\n",
    "    for i in path_list:\n",
    "        path_png += str(i)\n",
    "    return path_png"
   ]
  },
  {
   "cell_type": "code",
   "execution_count": 3,
   "metadata": {},
   "outputs": [],
   "source": [
    "def put_data(data_pair):\n",
    "    data = list()\n",
    "    for i in range(len(data_pair)):\n",
    "        flag = data_pair[i].find(\"jpg\")\n",
    "        path1 = data_pair[i][0:flag+3]\n",
    "        path2 = data_pair[i][flag+4:-1]\n",
    "        data.append(path1)\n",
    "        data.append(path2)\n",
    "    return data"
   ]
  },
  {
   "cell_type": "code",
   "execution_count": 4,
   "metadata": {},
   "outputs": [],
   "source": [
    "for k in [\"train\"]:\n",
    "    data_pair = list(open(\"../dataset/VITON-HD/\"+ k +\"_pairs.txt\"))\n",
    "    data = put_data(data_pair)\n",
    "    for path in data:\n",
    "        people = Image.open(\"../dataset/VITON-HD/\" + k +\"/image/\"+path).convert(\"RGB\")\n",
    "        people_array = np.array(people).transpose(2,0,1)\n",
    "        path_png = jpg2png(path)\n",
    "        split_image = Image.open(\"../dataset/VITON-HD/\"+ k +\"/image-parse-v3/\"+path_png).convert(\"RGB\")\n",
    "        arra = np.array(split_image).transpose(2,0,1)\n",
    "        for i in range(arra[0].shape[0]):\n",
    "            for j in range(arra[0].shape[1]):\n",
    "                if arra[0][i][j] == 254 and arra[1][i][j]==85:\n",
    "                    continue   \n",
    "                else:\n",
    "                    people_array[0][i][j] = 255\n",
    "                    people_array[1][i][j] = 255\n",
    "                    people_array[2][i][j] = 255\n",
    "        people_array_ = people_array.transpose(1,2,0)\n",
    "        clp = Image.fromarray(people_array_)\n",
    "        clp.save(\"../dataset/VITON-HD/\" + k + \"/warp-cloth/\"+path)\n",
    "        "
   ]
  }
 ],
 "metadata": {
  "kernelspec": {
   "display_name": "sd",
   "language": "python",
   "name": "python3"
  },
  "language_info": {
   "codemirror_mode": {
    "name": "ipython",
    "version": 3
   },
   "file_extension": ".py",
   "mimetype": "text/x-python",
   "name": "python",
   "nbconvert_exporter": "python",
   "pygments_lexer": "ipython3",
   "version": "3.10.13"
  }
 },
 "nbformat": 4,
 "nbformat_minor": 2
}
